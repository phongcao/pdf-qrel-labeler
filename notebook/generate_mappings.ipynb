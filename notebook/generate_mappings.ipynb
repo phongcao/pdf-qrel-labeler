{
 "cells": [
  {
   "cell_type": "markdown",
   "metadata": {},
   "source": [
    "# Generate Document and Query Mappings"
   ]
  },
  {
   "cell_type": "code",
   "execution_count": null,
   "metadata": {},
   "outputs": [],
   "source": [
    "# Setting up dependencies\n",
    "%pip install pandas PyPDF2"
   ]
  },
  {
   "cell_type": "code",
   "execution_count": null,
   "metadata": {},
   "outputs": [],
   "source": [
    "from utils import (\n",
    "    create_doc_mapping,\n",
    "    create_query_mapping,\n",
    "    count_pdf_pages,\n",
    "    list_files,\n",
    "    save_mapping_to_file,\n",
    ")\n",
    "\n",
    "import os\n",
    "import pandas as pd"
   ]
  },
  {
   "cell_type": "markdown",
   "metadata": {},
   "source": [
    "## Generate Document IDs from PDF files"
   ]
  },
  {
   "cell_type": "code",
   "execution_count": 6,
   "metadata": {},
   "outputs": [],
   "source": [
    "# List PDF files and count pages\n",
    "pdf_list = list_files(\"../pdf\", \"pdf\")\n",
    "pdf_list_with_pagecount = {}\n",
    "for pdf in pdf_list:\n",
    "    pdf_name = pdf.split(\"/\")[-1]\n",
    "    pdf_list_with_pagecount[pdf_name] = count_pdf_pages(pdf)\n",
    "\n",
    "# Generate doc mappings\n",
    "doc_mappings, reverse_doc_mappings = create_doc_mapping(pdf_list_with_pagecount)\n",
    "save_mapping_to_file(\n",
    "    doc_mappings,\n",
    "    reverse_doc_mappings,\n",
    "    \"../data/doc_mapping.json\",\n",
    "    \"../data/reverse_doc_mapping.json\",\n",
    ")"
   ]
  },
  {
   "cell_type": "markdown",
   "metadata": {},
   "source": [
    "## Generate Query IDs from CSV"
   ]
  },
  {
   "cell_type": "code",
   "execution_count": 9,
   "metadata": {},
   "outputs": [],
   "source": [
    "# Create and Save mappings\n",
    "queries_df = pd.read_csv(\"queries.csv\")\n",
    "queries = queries_df[\"query\"].tolist()\n",
    "query_mapping, reverse_query_mapping = create_query_mapping(queries)\n",
    "save_mapping_to_file(\n",
    "    query_mapping,\n",
    "    reverse_query_mapping,\n",
    "    \"../data/query_mapping.json\",\n",
    "    \"../data/reverse_query_mapping.json\",\n",
    ")"
   ]
  }
 ],
 "metadata": {
  "kernelspec": {
   "display_name": ".venv",
   "language": "python",
   "name": "python3"
  },
  "language_info": {
   "codemirror_mode": {
    "name": "ipython",
    "version": 3
   },
   "file_extension": ".py",
   "mimetype": "text/x-python",
   "name": "python",
   "nbconvert_exporter": "python",
   "pygments_lexer": "ipython3",
   "version": "3.13.2"
  }
 },
 "nbformat": 4,
 "nbformat_minor": 2
}
